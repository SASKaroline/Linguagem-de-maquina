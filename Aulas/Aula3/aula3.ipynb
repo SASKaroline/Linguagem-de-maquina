{
 "cells": [
  {
   "cell_type": "code",
   "execution_count": 32,
   "metadata": {},
   "outputs": [
    {
     "name": "stdout",
     "output_type": "stream",
     "text": [
      "Note: you may need to restart the kernel to use updated packages.\n"
     ]
    },
    {
     "name": "stderr",
     "output_type": "stream",
     "text": [
      "ERROR: Could not find a version that satisfies the requirement matplotlib.pyplot (from versions: none)\n",
      "ERROR: No matching distribution found for matplotlib.pyplot\n",
      "\n",
      "[notice] A new release of pip is available: 24.0 -> 25.0.1\n",
      "[notice] To update, run: C:\\Users\\mapa\\AppData\\Local\\Microsoft\\WindowsApps\\PythonSoftwareFoundation.Python.3.11_qbz5n2kfra8p0\\python.exe -m pip install --upgrade pip\n"
     ]
    }
   ],
   "source": [
    "pip install matplotlib.pyplot"
   ]
  },
  {
   "cell_type": "code",
   "execution_count": 2,
   "metadata": {},
   "outputs": [
    {
     "name": "stdout",
     "output_type": "stream",
     "text": [
      "Requirement already satisfied: numpy in c:\\users\\mapa\\appdata\\local\\packages\\pythonsoftwarefoundation.python.3.11_qbz5n2kfra8p0\\localcache\\local-packages\\python311\\site-packages (2.2.3)\n",
      "Note: you may need to restart the kernel to use updated packages.\n"
     ]
    },
    {
     "name": "stderr",
     "output_type": "stream",
     "text": [
      "\n",
      "[notice] A new release of pip is available: 24.0 -> 25.0.1\n",
      "[notice] To update, run: C:\\Users\\mapa\\AppData\\Local\\Microsoft\\WindowsApps\\PythonSoftwareFoundation.Python.3.11_qbz5n2kfra8p0\\python.exe -m pip install --upgrade pip\n"
     ]
    }
   ],
   "source": [
    "pip install numpy"
   ]
  },
  {
   "cell_type": "code",
   "execution_count": 1,
   "metadata": {},
   "outputs": [
    {
     "name": "stdout",
     "output_type": "stream",
     "text": [
      "Requirement already satisfied: pandas in c:\\users\\mapa\\appdata\\local\\packages\\pythonsoftwarefoundation.python.3.11_qbz5n2kfra8p0\\localcache\\local-packages\\python311\\site-packages (2.2.3)\n",
      "Requirement already satisfied: numpy>=1.23.2 in c:\\users\\mapa\\appdata\\local\\packages\\pythonsoftwarefoundation.python.3.11_qbz5n2kfra8p0\\localcache\\local-packages\\python311\\site-packages (from pandas) (2.2.3)\n",
      "Requirement already satisfied: python-dateutil>=2.8.2 in c:\\users\\mapa\\appdata\\local\\packages\\pythonsoftwarefoundation.python.3.11_qbz5n2kfra8p0\\localcache\\local-packages\\python311\\site-packages (from pandas) (2.9.0.post0)\n",
      "Requirement already satisfied: pytz>=2020.1 in c:\\users\\mapa\\appdata\\local\\packages\\pythonsoftwarefoundation.python.3.11_qbz5n2kfra8p0\\localcache\\local-packages\\python311\\site-packages (from pandas) (2025.1)\n",
      "Requirement already satisfied: tzdata>=2022.7 in c:\\users\\mapa\\appdata\\local\\packages\\pythonsoftwarefoundation.python.3.11_qbz5n2kfra8p0\\localcache\\local-packages\\python311\\site-packages (from pandas) (2025.1)\n",
      "Requirement already satisfied: six>=1.5 in c:\\users\\mapa\\appdata\\local\\packages\\pythonsoftwarefoundation.python.3.11_qbz5n2kfra8p0\\localcache\\local-packages\\python311\\site-packages (from python-dateutil>=2.8.2->pandas) (1.17.0)\n",
      "Note: you may need to restart the kernel to use updated packages.\n"
     ]
    },
    {
     "name": "stderr",
     "output_type": "stream",
     "text": [
      "\n",
      "[notice] A new release of pip is available: 24.0 -> 25.0.1\n",
      "[notice] To update, run: C:\\Users\\mapa\\AppData\\Local\\Microsoft\\WindowsApps\\PythonSoftwareFoundation.Python.3.11_qbz5n2kfra8p0\\python.exe -m pip install --upgrade pip\n"
     ]
    }
   ],
   "source": [
    "pip install pandas"
   ]
  },
  {
   "cell_type": "code",
   "execution_count": 3,
   "metadata": {},
   "outputs": [],
   "source": [
    "# Importe o pandas no ambiente python\n",
    "import pandas as pd\n",
    "\n",
    "# carregamento do arquivo marketing.csv\n",
    "marketing = pd.read_csv('./marketing.csv')"
   ]
  },
  {
   "cell_type": "code",
   "execution_count": 4,
   "metadata": {},
   "outputs": [
    {
     "data": {
      "text/html": [
       "<div>\n",
       "<style scoped>\n",
       "    .dataframe tbody tr th:only-of-type {\n",
       "        vertical-align: middle;\n",
       "    }\n",
       "\n",
       "    .dataframe tbody tr th {\n",
       "        vertical-align: top;\n",
       "    }\n",
       "\n",
       "    .dataframe thead th {\n",
       "        text-align: right;\n",
       "    }\n",
       "</style>\n",
       "<table border=\"1\" class=\"dataframe\">\n",
       "  <thead>\n",
       "    <tr style=\"text-align: right;\">\n",
       "      <th></th>\n",
       "      <th>user_id</th>\n",
       "      <th>date_served</th>\n",
       "      <th>marketing_channel</th>\n",
       "      <th>variant</th>\n",
       "      <th>converted</th>\n",
       "      <th>language_displayed</th>\n",
       "      <th>language_preferred</th>\n",
       "      <th>age_group</th>\n",
       "      <th>date_subscribed</th>\n",
       "      <th>date_canceled</th>\n",
       "      <th>subscribing_channel</th>\n",
       "      <th>is_retained</th>\n",
       "    </tr>\n",
       "  </thead>\n",
       "  <tbody>\n",
       "    <tr>\n",
       "      <th>0</th>\n",
       "      <td>a100000029</td>\n",
       "      <td>1/1/18</td>\n",
       "      <td>House Ads</td>\n",
       "      <td>personalization</td>\n",
       "      <td>True</td>\n",
       "      <td>English</td>\n",
       "      <td>English</td>\n",
       "      <td>0-18 years</td>\n",
       "      <td>1/1/18</td>\n",
       "      <td>NaN</td>\n",
       "      <td>House Ads</td>\n",
       "      <td>True</td>\n",
       "    </tr>\n",
       "    <tr>\n",
       "      <th>1</th>\n",
       "      <td>a100000030</td>\n",
       "      <td>1/1/18</td>\n",
       "      <td>House Ads</td>\n",
       "      <td>personalization</td>\n",
       "      <td>True</td>\n",
       "      <td>English</td>\n",
       "      <td>English</td>\n",
       "      <td>19-24 years</td>\n",
       "      <td>1/1/18</td>\n",
       "      <td>NaN</td>\n",
       "      <td>House Ads</td>\n",
       "      <td>True</td>\n",
       "    </tr>\n",
       "    <tr>\n",
       "      <th>2</th>\n",
       "      <td>a100000031</td>\n",
       "      <td>1/1/18</td>\n",
       "      <td>House Ads</td>\n",
       "      <td>personalization</td>\n",
       "      <td>True</td>\n",
       "      <td>English</td>\n",
       "      <td>English</td>\n",
       "      <td>24-30 years</td>\n",
       "      <td>1/1/18</td>\n",
       "      <td>NaN</td>\n",
       "      <td>House Ads</td>\n",
       "      <td>True</td>\n",
       "    </tr>\n",
       "    <tr>\n",
       "      <th>3</th>\n",
       "      <td>a100000032</td>\n",
       "      <td>1/1/18</td>\n",
       "      <td>House Ads</td>\n",
       "      <td>personalization</td>\n",
       "      <td>True</td>\n",
       "      <td>English</td>\n",
       "      <td>English</td>\n",
       "      <td>30-36 years</td>\n",
       "      <td>1/1/18</td>\n",
       "      <td>NaN</td>\n",
       "      <td>House Ads</td>\n",
       "      <td>True</td>\n",
       "    </tr>\n",
       "    <tr>\n",
       "      <th>4</th>\n",
       "      <td>a100000033</td>\n",
       "      <td>1/1/18</td>\n",
       "      <td>House Ads</td>\n",
       "      <td>personalization</td>\n",
       "      <td>True</td>\n",
       "      <td>English</td>\n",
       "      <td>English</td>\n",
       "      <td>36-45 years</td>\n",
       "      <td>1/1/18</td>\n",
       "      <td>NaN</td>\n",
       "      <td>House Ads</td>\n",
       "      <td>True</td>\n",
       "    </tr>\n",
       "  </tbody>\n",
       "</table>\n",
       "</div>"
      ],
      "text/plain": [
       "      user_id date_served marketing_channel          variant converted  \\\n",
       "0  a100000029      1/1/18         House Ads  personalization      True   \n",
       "1  a100000030      1/1/18         House Ads  personalization      True   \n",
       "2  a100000031      1/1/18         House Ads  personalization      True   \n",
       "3  a100000032      1/1/18         House Ads  personalization      True   \n",
       "4  a100000033      1/1/18         House Ads  personalization      True   \n",
       "\n",
       "  language_displayed language_preferred    age_group date_subscribed  \\\n",
       "0            English            English   0-18 years          1/1/18   \n",
       "1            English            English  19-24 years          1/1/18   \n",
       "2            English            English  24-30 years          1/1/18   \n",
       "3            English            English  30-36 years          1/1/18   \n",
       "4            English            English  36-45 years          1/1/18   \n",
       "\n",
       "  date_canceled subscribing_channel is_retained  \n",
       "0           NaN           House Ads        True  \n",
       "1           NaN           House Ads        True  \n",
       "2           NaN           House Ads        True  \n",
       "3           NaN           House Ads        True  \n",
       "4           NaN           House Ads        True  "
      ]
     },
     "execution_count": 4,
     "metadata": {},
     "output_type": "execute_result"
    }
   ],
   "source": [
    "# item A\n",
    "marketing.head(5)"
   ]
  },
  {
   "cell_type": "code",
   "execution_count": 3,
   "metadata": {},
   "outputs": [
    {
     "data": {
      "text/html": [
       "<div>\n",
       "<style scoped>\n",
       "    .dataframe tbody tr th:only-of-type {\n",
       "        vertical-align: middle;\n",
       "    }\n",
       "\n",
       "    .dataframe tbody tr th {\n",
       "        vertical-align: top;\n",
       "    }\n",
       "\n",
       "    .dataframe thead th {\n",
       "        text-align: right;\n",
       "    }\n",
       "</style>\n",
       "<table border=\"1\" class=\"dataframe\">\n",
       "  <thead>\n",
       "    <tr style=\"text-align: right;\">\n",
       "      <th></th>\n",
       "      <th>user_id</th>\n",
       "      <th>date_served</th>\n",
       "      <th>marketing_channel</th>\n",
       "      <th>variant</th>\n",
       "      <th>converted</th>\n",
       "      <th>language_displayed</th>\n",
       "      <th>language_preferred</th>\n",
       "      <th>age_group</th>\n",
       "      <th>date_subscribed</th>\n",
       "      <th>date_canceled</th>\n",
       "      <th>subscribing_channel</th>\n",
       "      <th>is_retained</th>\n",
       "    </tr>\n",
       "  </thead>\n",
       "  <tbody>\n",
       "    <tr>\n",
       "      <th>count</th>\n",
       "      <td>10037</td>\n",
       "      <td>10021</td>\n",
       "      <td>10022</td>\n",
       "      <td>10037</td>\n",
       "      <td>10022</td>\n",
       "      <td>10037</td>\n",
       "      <td>10037</td>\n",
       "      <td>10037</td>\n",
       "      <td>1856</td>\n",
       "      <td>577</td>\n",
       "      <td>1856</td>\n",
       "      <td>1856</td>\n",
       "    </tr>\n",
       "    <tr>\n",
       "      <th>unique</th>\n",
       "      <td>7309</td>\n",
       "      <td>31</td>\n",
       "      <td>5</td>\n",
       "      <td>2</td>\n",
       "      <td>2</td>\n",
       "      <td>4</td>\n",
       "      <td>4</td>\n",
       "      <td>7</td>\n",
       "      <td>31</td>\n",
       "      <td>115</td>\n",
       "      <td>5</td>\n",
       "      <td>2</td>\n",
       "    </tr>\n",
       "    <tr>\n",
       "      <th>top</th>\n",
       "      <td>a100000882</td>\n",
       "      <td>1/15/18</td>\n",
       "      <td>House Ads</td>\n",
       "      <td>control</td>\n",
       "      <td>False</td>\n",
       "      <td>English</td>\n",
       "      <td>English</td>\n",
       "      <td>19-24 years</td>\n",
       "      <td>1/16/18</td>\n",
       "      <td>4/2/18</td>\n",
       "      <td>Instagram</td>\n",
       "      <td>True</td>\n",
       "    </tr>\n",
       "    <tr>\n",
       "      <th>freq</th>\n",
       "      <td>12</td>\n",
       "      <td>789</td>\n",
       "      <td>4733</td>\n",
       "      <td>5091</td>\n",
       "      <td>8946</td>\n",
       "      <td>9793</td>\n",
       "      <td>9275</td>\n",
       "      <td>1682</td>\n",
       "      <td>163</td>\n",
       "      <td>15</td>\n",
       "      <td>600</td>\n",
       "      <td>1279</td>\n",
       "    </tr>\n",
       "  </tbody>\n",
       "</table>\n",
       "</div>"
      ],
      "text/plain": [
       "           user_id date_served marketing_channel  variant converted  \\\n",
       "count        10037       10021             10022    10037     10022   \n",
       "unique        7309          31                 5        2         2   \n",
       "top     a100000882     1/15/18         House Ads  control     False   \n",
       "freq            12         789              4733     5091      8946   \n",
       "\n",
       "       language_displayed language_preferred    age_group date_subscribed  \\\n",
       "count               10037              10037        10037            1856   \n",
       "unique                  4                  4            7              31   \n",
       "top               English            English  19-24 years         1/16/18   \n",
       "freq                 9793               9275         1682             163   \n",
       "\n",
       "       date_canceled subscribing_channel is_retained  \n",
       "count            577                1856        1856  \n",
       "unique           115                   5           2  \n",
       "top           4/2/18           Instagram        True  \n",
       "freq              15                 600        1279  "
      ]
     },
     "execution_count": 3,
     "metadata": {},
     "output_type": "execute_result"
    }
   ],
   "source": [
    "# item B\n",
    "marketing.describe(include='all')"
   ]
  },
  {
   "cell_type": "code",
   "execution_count": 6,
   "metadata": {},
   "outputs": [],
   "source": [
    "# item 3\n",
    "\n",
    "marketing['converted'] = marketing['converted'].astype('bool')"
   ]
  },
  {
   "cell_type": "code",
   "execution_count": 7,
   "metadata": {},
   "outputs": [
    {
     "name": "stdout",
     "output_type": "stream",
     "text": [
      "<class 'pandas.core.frame.DataFrame'>\n",
      "RangeIndex: 10037 entries, 0 to 10036\n",
      "Data columns (total 12 columns):\n",
      " #   Column               Non-Null Count  Dtype \n",
      "---  ------               --------------  ----- \n",
      " 0   user_id              10037 non-null  object\n",
      " 1   date_served          10021 non-null  object\n",
      " 2   marketing_channel    10022 non-null  object\n",
      " 3   variant              10037 non-null  object\n",
      " 4   converted            10037 non-null  bool  \n",
      " 5   language_displayed   10037 non-null  object\n",
      " 6   language_preferred   10037 non-null  object\n",
      " 7   age_group            10037 non-null  object\n",
      " 8   date_subscribed      1856 non-null   object\n",
      " 9   date_canceled        577 non-null    object\n",
      " 10  subscribing_channel  1856 non-null   object\n",
      " 11  is_retained          1856 non-null   object\n",
      "dtypes: bool(1), object(11)\n",
      "memory usage: 872.5+ KB\n"
     ]
    }
   ],
   "source": [
    "# item C\n",
    "marketing.info()"
   ]
  },
  {
   "cell_type": "code",
   "execution_count": 8,
   "metadata": {},
   "outputs": [],
   "source": [
    "#Criando novas colunas do tipo Bool\n",
    "import numpy as np"
   ]
  },
  {
   "cell_type": "code",
   "execution_count": 9,
   "metadata": {},
   "outputs": [
    {
     "name": "stdout",
     "output_type": "stream",
     "text": [
      "object\n",
      "bool\n"
     ]
    }
   ],
   "source": [
    "# Verifique o tipo de dado da coluna is_retained\n",
    "print(marketing['is_retained'].dtype)\n",
    "\n",
    "# Converta is_retained para booleano\n",
    "marketing['is_retained'] = marketing['is_retained'].astype('bool')\n",
    "\n",
    "# Verifique novamente o tipo de dado da coluna is_retained\n",
    "print(marketing['is_retained'].dtype)"
   ]
  },
  {
   "cell_type": "code",
   "execution_count": null,
   "metadata": {},
   "outputs": [
    {
     "name": "stdout",
     "output_type": "stream",
     "text": [
      "  subscribing_channel  channel_code\n",
      "0           House Ads             1\n",
      "1           Instagram             2\n",
      "2            Facebook             3\n",
      "3               Email             4\n",
      "4                Push             5\n",
      "5           Instagram             2\n"
     ]
    }
   ],
   "source": [
    "# Item A\n",
    "marketing = pd.DataFrame({\n",
    "    'subscribing_channel': ['House Ads', 'Instagram', 'Facebook', 'Email', 'Push', 'Instagram']\n",
    "})\n",
    "\n",
    "# Mapeamento de canais\n",
    "channel_dict = {\"House Ads\": 1, \"Instagram\": 2, \n",
    "                \"Facebook\": 3, \"Email\": 4, \"Push\": 5}\n",
    "\n",
    "# Adicionar a nova coluna channel_code, mapeando com o channel_dict\n",
    "marketing['channel_code'] = marketing['subscribing_channel'].map(channel_dict)\n",
    "\n",
    "# Exibir o DataFrame resultante\n",
    "print(marketing)"
   ]
  },
  {
   "cell_type": "code",
   "execution_count": null,
   "metadata": {},
   "outputs": [
    {
     "name": "stdout",
     "output_type": "stream",
     "text": [
      "  language_preferred language_displayed is_correct_lang\n",
      "0            English            English             Yes\n",
      "1         Portuguese            English              No\n",
      "2            English            English             Yes\n",
      "3         Portuguese         Portuguese             Yes\n"
     ]
    }
   ],
   "source": [
    "# Item B\n",
    "marketing = pd.DataFrame({\n",
    "    'language_preferred': ['English', 'Portuguese', 'English', 'Portuguese'],\n",
    "    'language_displayed': ['English', 'English', 'English', 'Portuguese']\n",
    "})\n",
    "\n",
    "# Adicionar a nova coluna is_correct_lang\n",
    "marketing['is_correct_lang'] = np.where(marketing['language_preferred'] == marketing['language_displayed'], 'Yes', 'No')\n",
    "\n",
    "# Exibir o DataFrame resultante\n",
    "print(marketing)\n"
   ]
  },
  {
   "cell_type": "code",
   "execution_count": 17,
   "metadata": {},
   "outputs": [
    {
     "name": "stdout",
     "output_type": "stream",
     "text": [
      "          user_id date_served marketing_channel          variant converted  \\\n",
      "0      a100000029  2018-01-01         House Ads  personalization      True   \n",
      "1      a100000030  2018-01-01         House Ads  personalization      True   \n",
      "2      a100000031  2018-01-01         House Ads  personalization      True   \n",
      "3      a100000032  2018-01-01         House Ads  personalization      True   \n",
      "4      a100000033  2018-01-01         House Ads  personalization      True   \n",
      "...           ...         ...               ...              ...       ...   \n",
      "10032  a100007290  2018-01-17             Email          control      True   \n",
      "10033  a100007291  2018-01-17             Email          control      True   \n",
      "10034  a100007292  2018-01-05         Instagram          control     False   \n",
      "10035  a100007293  2018-01-17             Email          control      True   \n",
      "10036  a100007294  2018-01-06          Facebook          control     False   \n",
      "\n",
      "      language_displayed language_preferred    age_group date_subscribed  \\\n",
      "0                English            English   0-18 years      2018-01-01   \n",
      "1                English            English  19-24 years      2018-01-01   \n",
      "2                English            English  24-30 years      2018-01-01   \n",
      "3                English            English  30-36 years      2018-01-01   \n",
      "4                English            English  36-45 years      2018-01-01   \n",
      "...                  ...                ...          ...             ...   \n",
      "10032             German             German  45-55 years      2018-01-17   \n",
      "10033             German             German    55+ years      2018-01-17   \n",
      "10034             German             German    55+ years      2018-01-17   \n",
      "10035             German             German   0-18 years      2018-01-17   \n",
      "10036             German             German   0-18 years      2018-01-17   \n",
      "\n",
      "      date_canceled subscribing_channel is_retained  DoW  \n",
      "0               NaT           House Ads        True  0.0  \n",
      "1               NaT           House Ads        True  0.0  \n",
      "2               NaT           House Ads        True  0.0  \n",
      "3               NaT           House Ads        True  0.0  \n",
      "4               NaT           House Ads        True  0.0  \n",
      "...             ...                 ...         ...  ...  \n",
      "10032    2018-01-24               Email       False  2.0  \n",
      "10033           NaT               Email        True  2.0  \n",
      "10034           NaT               Email        True  2.0  \n",
      "10035           NaT               Email        True  2.0  \n",
      "10036           NaT               Email        True  2.0  \n",
      "\n",
      "[10037 rows x 13 columns]\n"
     ]
    },
    {
     "name": "stderr",
     "output_type": "stream",
     "text": [
      "C:\\Users\\mapa\\AppData\\Local\\Temp\\ipykernel_29728\\3603406046.py:2: UserWarning: Could not infer format, so each element will be parsed individually, falling back to `dateutil`. To ensure parsing is consistent and as-expected, please specify a format.\n",
      "  marketing = pd.read_csv('marketing.csv', parse_dates=['date_served', 'date_subscribed', 'date_canceled'])\n",
      "C:\\Users\\mapa\\AppData\\Local\\Temp\\ipykernel_29728\\3603406046.py:2: UserWarning: Could not infer format, so each element will be parsed individually, falling back to `dateutil`. To ensure parsing is consistent and as-expected, please specify a format.\n",
      "  marketing = pd.read_csv('marketing.csv', parse_dates=['date_served', 'date_subscribed', 'date_canceled'])\n",
      "C:\\Users\\mapa\\AppData\\Local\\Temp\\ipykernel_29728\\3603406046.py:2: UserWarning: Could not infer format, so each element will be parsed individually, falling back to `dateutil`. To ensure parsing is consistent and as-expected, please specify a format.\n",
      "  marketing = pd.read_csv('marketing.csv', parse_dates=['date_served', 'date_subscribed', 'date_canceled'])\n"
     ]
    }
   ],
   "source": [
    "# Ler o arquivo marketing.csv e especificar as colunas de data corretamente\n",
    "marketing = pd.read_csv('marketing.csv', parse_dates=['date_served', 'date_subscribed', 'date_canceled'])\n",
    "\n",
    "# Adicionar a nova coluna DoW (Dia da Semana) a partir de 'date_subscribed'\n",
    "marketing['DoW'] = marketing['date_subscribed'].dt.dayofweek\n",
    "\n",
    "# Exibir o DataFrame para verificar as alterações\n",
    "print(marketing)\n"
   ]
  },
  {
   "cell_type": "code",
   "execution_count": 34,
   "metadata": {},
   "outputs": [
    {
     "name": "stderr",
     "output_type": "stream",
     "text": [
      "Matplotlib is building the font cache; this may take a moment.\n"
     ]
    },
    {
     "name": "stdout",
     "output_type": "stream",
     "text": [
      "date_served\n",
      "2018-01-01    362\n",
      "2018-01-02    374\n",
      "2018-01-03    348\n",
      "2018-01-04    323\n",
      "2018-01-05    319\n",
      "Name: user_id, dtype: int64\n"
     ]
    },
    {
     "data": {
      "image/png": "[encoded data removed]",
      "text/plain": [
       "<Figure size 640x480 with 1 Axes>"
      ]
     },
     "metadata": {},
     "output_type": "display_data"
    }
   ],
   "source": [
    "import matplotlib.pyplot as plt\n",
    "\n",
    "# Análise exploratória inicial\n",
    "    # Item A\n",
    "daily_users = marketing.groupby(['date_served'])['user_id'].nunique()\n",
    "\n",
    "# Exibir as primeiras linhas do DataFrame daily_users\n",
    "print(daily_users.head())\n",
    "\n",
    "# Plot daily_users\n",
    "daily_users.plot()\n",
    "\n",
    "# Include a title and y-axis label\n",
    "plt.title('Usuários Diários')\n",
    "plt.ylabel('Número de usuários')\n",
    "\n",
    "# Rotate the x-axis labels by 45 degrees\n",
    "plt.xticks(rotation=45)\n",
    "\n",
    "# Display the plot\n",
    "plt.show()\n"
   ]
  }
 ],
 "metadata": {
  "kernelspec": {
   "display_name": "Python 3",
   "language": "python",
   "name": "python3"
  },
  "language_info": {
   "codemirror_mode": {
    "name": "ipython",
    "version": 3
   },
   "file_extension": ".py",
   "mimetype": "text/x-python",
   "name": "python",
   "nbconvert_exporter": "python",
   "pygments_lexer": "ipython3",
   "version": "3.11.9"
  }
 },
 "nbformat": 4,
 "nbformat_minor": 2
}
