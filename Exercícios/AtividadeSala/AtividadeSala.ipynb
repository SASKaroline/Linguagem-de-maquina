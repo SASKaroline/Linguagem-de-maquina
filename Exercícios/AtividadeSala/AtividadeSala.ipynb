{
 "cells": [
  {
   "cell_type": "code",
   "execution_count": null,
   "metadata": {},
   "outputs": [
    {
     "name": "stdout",
     "output_type": "stream",
     "text": [
      "['it', 'is', 'lovely', 'weather', 'we', 'are', 'having', 'i', 'hope', 'the', 'weather', 'continues']\n"
     ]
    }
   ],
   "source": [
    "import re\n",
    "\n",
    "text = \"It is/*/-+.,{}[+=_=-] 563,. 23568 552 lovely weather we are having. I hope the weather continues.\"\n",
    "\n",
    "text = text.lower()\n",
    "\n",
    "text = re.sub(r\"[^a-z\\s]\", \" \", text)\n",
    "text = re.sub(r'\\s{2,}', ' ', text).strip()\n",
    "\n",
    "words = text.split(' ')\n",
    "\n",
    "print(words)\n"
   ]
  }
 ],
 "metadata": {
  "kernelspec": {
   "display_name": "Python 3",
   "language": "python",
   "name": "python3"
  },
  "language_info": {
   "codemirror_mode": {
    "name": "ipython",
    "version": 3
   },
   "file_extension": ".py",
   "mimetype": "text/x-python",
   "name": "python",
   "nbconvert_exporter": "python",
   "pygments_lexer": "ipython3",
   "version": "3.13.1"
  }
 },
 "nbformat": 4,
 "nbformat_minor": 2
}
